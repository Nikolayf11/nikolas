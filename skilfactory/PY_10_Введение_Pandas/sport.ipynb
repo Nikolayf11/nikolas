{
 "cells": [
  {
   "cell_type": "code",
   "execution_count": 46,
   "metadata": {},
   "outputs": [
    {
     "name": "stdout",
     "output_type": "stream",
     "text": [
      "15085\n",
      "95530\n",
      "143012\n",
      "46373\n",
      "9.0\n"
     ]
    }
   ],
   "source": [
    "import pandas as pd\n",
    "byke_data = pd.read_csv('data/citibike-tripdata.csv', sep=',')\n",
    "#display(byke_data)\n",
    "\n",
    "byke_df = byke_data.copy()\n",
    "#display(byke_df)\n",
    "propysk = 300000-byke_df['start station id'].count()\n",
    "#print(propysk)\n",
    "#byke_df['stoptime'].info()\n",
    "#byke_df['start station id'].value_counts()\n",
    "#byke_df['bikeid'].value_counts(normalize=True)\n",
    "#byke_df['usertype'].value_counts(normalize=True)\n",
    "#byke_df['gender'].value_counts()\n",
    "#display(300000-byke_df['start station id'].count())\n",
    "#display(300000-byke_df['end station id'].count())\n",
    "#byke_df['birth year'].max()\n",
    "#byke_df['end station name'].value_counts()\n",
    "#byke_df.info()\n",
    "byke_df['age'] = 2018-byke_df['birth year']\n",
    "byke_df.drop('birth year', axis=1)\n",
    "#byke_df['age'].value_counts()\n",
    "\n",
    "#byke_df[(byke_df['age'] > 60)]['age'].count()\n",
    "byke_df['starttime'] = pd.to_datetime(byke_df['starttime'])\n",
    "#byke_df['starttime']\n",
    "byke_df['stoptime'] = pd.to_datetime(byke_df['stoptime'])\n",
    "byke_df['interval'] = byke_df['stoptime']-byke_df['starttime']\n",
    "#byke_df['interval']\n",
    "\n",
    "\n",
    "byke_df['WeekdayProkat'] = byke_df['starttime'].dt.dayofweek\n",
    "#display(byke_df['WeekdayProkat'].value_counts())\n",
    "\n",
    "\n",
    "def get_weekend(weekday):\n",
    "    if weekday == 5 or weekday == 6:\n",
    "        return 1\n",
    "    else: \n",
    "        return 0\n",
    "byke_df['Weekend'] = byke_df['WeekdayProkat'].apply(get_weekend)\n",
    "#display(byke_df['Weekend'].value_counts())\n",
    "#print(byke_df[byke_df['Weekend']==1]['Weekend'].count())\n",
    "\n",
    "byke_df['time_of_day'] = byke_df['starttime'].dt.hour\n",
    "byke_df['time_of_day']\n",
    "night=byke_df[(byke_df['time_of_day']>=0) & (byke_df['time_of_day']<=6)]['time_of_day'].count()\n",
    "morning=byke_df[(byke_df['time_of_day']>6) & (byke_df['time_of_day']<=12)]['time_of_day'].count()\n",
    "day=byke_df[(byke_df['time_of_day']>12) & (byke_df['time_of_day']<=18)]['time_of_day'].count()\n",
    "evening=byke_df[(byke_df['time_of_day']>18) & (byke_df['time_of_day']<=23)]['time_of_day'].count()\n",
    "print(night)\n",
    "print(morning)\n",
    "print(day)\n",
    "print(evening)\n",
    "sravnene = round(day/night, 0)\n",
    "\n",
    "print(sravnene)\n"
   ]
  }
 ],
 "metadata": {
  "kernelspec": {
   "display_name": "Python 3",
   "language": "python",
   "name": "python3"
  },
  "language_info": {
   "codemirror_mode": {
    "name": "ipython",
    "version": 3
   },
   "file_extension": ".py",
   "mimetype": "text/x-python",
   "name": "python",
   "nbconvert_exporter": "python",
   "pygments_lexer": "ipython3",
   "version": "3.13.0"
  }
 },
 "nbformat": 4,
 "nbformat_minor": 2
}
