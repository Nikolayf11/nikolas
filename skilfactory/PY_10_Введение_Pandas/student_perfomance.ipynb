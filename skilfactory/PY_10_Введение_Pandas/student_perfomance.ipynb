{
 "cells": [
  {
   "cell_type": "code",
   "execution_count": 33,
   "metadata": {},
   "outputs": [
    {
     "data": {
      "text/plain": [
       "np.float64(62.0)"
      ]
     },
     "metadata": {},
     "output_type": "display_data"
    },
    {
     "data": {
      "text/plain": [
       "np.float64(67.82758620689656)"
      ]
     },
     "metadata": {},
     "output_type": "display_data"
    },
    {
     "data": {
      "text/plain": [
       "np.float64(6.0)"
      ]
     },
     "metadata": {},
     "output_type": "display_data"
    }
   ],
   "source": [
    "import pandas as pd\n",
    "\n",
    "student_data = pd.read_csv('data/students_performance.csv', sep=',')\n",
    "\n",
    "#display(student_data.head())\n",
    "#student_data.info()\n",
    "\n",
    "#student_data.value_counts()\n",
    "\n",
    "#student_data[student_data == 'None'].shape[0]\n",
    "#student_data['math score'].mean()\n",
    "\n",
    "#student_data['race/ethnicity'].value_counts()\n",
    "\n",
    "\n",
    "\n",
    "#student_data[student_data['test preparation course'] == 'completed']['reading score'].mean()\n",
    "\n",
    "#student_data[student_data['math score'] == 0].shape[0]\n",
    "\n",
    "#display(student_data[student_data['lunch'] == 'standard']['math score'].mean())\n",
    "\n",
    "#display(student_data[student_data['lunch'] == 'free/reduced']['math score'].mean())\n",
    "\n",
    "#student_data['parental level of education'].value_counts(normalize=True)*100\n",
    "\n",
    "mean_writing_A = student_data[student_data['race/ethnicity'] == 'group A']['writing score'].median()\n",
    "display(mean_writing_A)\n",
    "mean_writing_C = student_data[student_data['race/ethnicity'] == 'group C']['writing score'].mean()\n",
    "display(mean_writing_C)\n",
    "\n",
    "display(round(abs(mean_writing_A-mean_writing_C), 0))"
   ]
  }
 ],
 "metadata": {
  "kernelspec": {
   "display_name": "Python 3",
   "language": "python",
   "name": "python3"
  },
  "language_info": {
   "codemirror_mode": {
    "name": "ipython",
    "version": 3
   },
   "file_extension": ".py",
   "mimetype": "text/x-python",
   "name": "python",
   "nbconvert_exporter": "python",
   "pygments_lexer": "ipython3",
   "version": "3.13.0"
  }
 },
 "nbformat": 4,
 "nbformat_minor": 2
}
