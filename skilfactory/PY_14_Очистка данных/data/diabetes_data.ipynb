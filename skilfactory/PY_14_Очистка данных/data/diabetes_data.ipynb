{
 "cells": [
  {
   "cell_type": "code",
   "execution_count": 8,
   "metadata": {},
   "outputs": [
    {
     "name": "stdout",
     "output_type": "stream",
     "text": [
      "Число найденных дубликатов: 10\n",
      "Результирующее число записей: 768\n"
     ]
    }
   ],
   "source": [
    "import pandas as pd\n",
    "import numpy as np\n",
    "import matplotlib.pyplot as plt\n",
    "import seaborn as sns\n",
    "import plotly\n",
    "import plotly.express as px\n",
    "\n",
    "diabetes_data = pd.read_csv('data_2/diabetes_data.csv', sep=',')\n",
    "#display(diabetes_data.head())\n",
    "\n",
    "\n",
    "#Начнём с поиска дубликатов в данных. Найдите все повторяющиеся строки в данных и удалите их.\n",
    "# Для поиска используйте все признаки в данных. Сколько записей осталось в данных?\n",
    "dupl_columns = list(diabetes_data.columns)\n",
    "\n",
    "mask = diabetes_data.duplicated(subset=dupl_columns)\n",
    "diabetes_data_duplicates = diabetes_data[mask]\n",
    "#print(f'Число найденных дубликатов: {diabetes_data_duplicates.shape[0]}')\n",
    "\n",
    "diabetes_duplicates = diabetes_data.drop_duplicates(subset=dupl_columns)\n",
    "#print(f'Результирующее число записей: {diabetes_duplicates.shape[0]}')\n",
    "\n",
    "\n",
    "#список неинформативных признаков\n",
    "low_information_cols = [] \n",
    "\n",
    "#цикл по всем столбцам\n",
    "for col in diabetes_duplicates.columns:\n",
    "    #наибольшая относительная частота в признаке\n",
    "    top_freq = diabetes_duplicates[col].value_counts(normalize=True).max()\n",
    "    #доля уникальных значений от размера признака\n",
    "    nunique_ratio = diabetes_duplicates[col].nunique() / diabetes_duplicates[col].count()\n",
    "    # сравниваем наибольшую частоту с порогом\n",
    "    if top_freq > 0.95:\n",
    "        low_information_cols.append(col)\n",
    "        print(f'{col}: {round(top_freq*100, 2)}% одинаковых значений')\n",
    "    # сравниваем долю уникальных значений с порогом\n",
    "    if nunique_ratio > 0.95:\n",
    "        low_information_cols.append(col)\n",
    "        print(f'{col}: {round(nunique_ratio*100, 2)}% уникальных значений')\n",
    "\n",
    "#Итак, мы нашли шесть неинформативных признаков. Теперь можно удалить их с помощью метода drop(),\n",
    "#передав результирующий список в его аргументы.\n",
    "information_diabetes_data = diabetes_duplicates.drop(low_information_cols, axis=1)\n",
    "print(f'Результирующее число признаков: {information_sber_data.shape[1]}')"
   ]
  }
 ],
 "metadata": {
  "kernelspec": {
   "display_name": "Python 3",
   "language": "python",
   "name": "python3"
  },
  "language_info": {
   "codemirror_mode": {
    "name": "ipython",
    "version": 3
   },
   "file_extension": ".py",
   "mimetype": "text/x-python",
   "name": "python",
   "nbconvert_exporter": "python",
   "pygments_lexer": "ipython3",
   "version": "3.13.0"
  }
 },
 "nbformat": 4,
 "nbformat_minor": 2
}
