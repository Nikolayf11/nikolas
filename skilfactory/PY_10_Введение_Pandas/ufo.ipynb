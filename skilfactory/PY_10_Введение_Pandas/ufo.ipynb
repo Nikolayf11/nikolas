{
 "cells": [
  {
   "cell_type": "code",
   "execution_count": 16,
   "metadata": {},
   "outputs": [
    {
     "data": {
      "text/plain": [
       "np.float64(69.0)"
      ]
     },
     "metadata": {},
     "output_type": "display_data"
    }
   ],
   "source": [
    "import pandas as pd\n",
    "\n",
    "ufo_data = pd.read_csv('data/ufo.csv', sep=',')\n",
    "\n",
    "#ufo_data.head()\n",
    "\n",
    "ufo_df = ufo_data.copy()\n",
    "\n",
    "ufo_df['Time'] = pd.to_datetime(ufo_df['Time'], dayfirst=False)\n",
    "\n",
    "#display(ufo_df['Time'])\n",
    "\n",
    "year_viewer = ufo_df['Time'].dt.year\n",
    "\n",
    "#print(year_viewer)\n",
    "#print('More view: ', year_viewer.mode()[0])\n",
    "\n",
    "ufo_df['Data'] = ufo_df['Time'].dt.date\n",
    "\n",
    "#ufo_df.head()\n",
    "\n",
    "mask = ufo_df['State'] == \"NV\"\n",
    "\n",
    "ufo_updf = ufo_df[mask]\n",
    "\n",
    "#display(ufo_updf)\n",
    "\n",
    "interval = ufo_updf['Data'].diff()\n",
    "\n",
    "#display(interval)\n",
    "interval.dt.days\n",
    "\n",
    "display(round(interval.dt.days.mean(),0))\n"
   ]
  }
 ],
 "metadata": {
  "kernelspec": {
   "display_name": "Python 3",
   "language": "python",
   "name": "python3"
  },
  "language_info": {
   "codemirror_mode": {
    "name": "ipython",
    "version": 3
   },
   "file_extension": ".py",
   "mimetype": "text/x-python",
   "name": "python",
   "nbconvert_exporter": "python",
   "pygments_lexer": "ipython3",
   "version": "3.13.0"
  }
 },
 "nbformat": 4,
 "nbformat_minor": 2
}
