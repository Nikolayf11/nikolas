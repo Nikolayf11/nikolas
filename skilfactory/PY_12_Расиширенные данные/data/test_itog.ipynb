{
 "cells": [
  {
   "cell_type": "code",
   "execution_count": 26,
   "metadata": {},
   "outputs": [
    {
     "data": {
      "text/plain": [
       "ID Покупателя\n",
       "7    17096.0\n",
       "5    13043.0\n",
       "8     1344.0\n",
       "1        0.0\n",
       "Name: Profit, dtype: float64"
      ]
     },
     "execution_count": 26,
     "metadata": {},
     "output_type": "execute_result"
    }
   ],
   "source": [
    "import pandas as pd\n",
    "\n",
    "movies = pd.read_csv('data_2/ratings_movies.csv', sep=',') \n",
    "\n",
    "#display(movies.head())\n",
    "\n",
    "#Для решения задач нам понадобится выделить из признака title год выпуска фильма. Для этого напишем функцию get_year_release(arg).\n",
    "import re \n",
    "def get_year_release(arg):\n",
    "    #находим все слова по шаблону \"(DDDD)\"\n",
    "    candidates = re.findall(r'\\(\\d{4}\\)', arg) \n",
    "    # проверяем число вхождений\n",
    "    if len(candidates) > 0:\n",
    "        #если число вхождений больше 0,\n",
    "\t#очищаем строку от знаков \"(\" и \")\"\n",
    "        year = candidates[0].replace('(', '')\n",
    "        year = year.replace(')', '')\n",
    "        return int(year)\n",
    "    else:\n",
    "        #если год не указан, возвращаем None\n",
    "        return None\n",
    "\n",
    "movies['year_release'] = movies['title'].apply(get_year_release)\n",
    "#movies.info()\n",
    "#mask = movies['year_release'] == 1999\n",
    "#movies[mask].groupby('title')['rating'].mean().sort_values()\n",
    "\n",
    "#mask = movies['year_release'] == 2010\n",
    "#movies[mask].groupby('genres')['rating'].mean().sort_values()\n",
    "\n",
    "#movies.groupby('userId')['genres'].nunique().sort_values(ascending=False)\n",
    "\n",
    "#movies.groupby('userId')['rating'].agg(\n",
    " #   ['count', 'mean']\n",
    "#).sort_values(['count', 'mean'], ascending=[True, False])\n",
    "#mask = movies['year_release'] == 2018\n",
    "#grouped = movies[mask].groupby('genres')['rating'].agg(\n",
    " #   ['mean', 'count']\n",
    "#)\n",
    "#grouped[grouped['count']>10].sort_values(\n",
    "   # by='mean',\n",
    "  #  ascending=False\n",
    "#)\n",
    "\n",
    "movies['date'] = pd.to_datetime(movies['date'])\n",
    "movies['year_rating'] = movies['date'].dt.year\n",
    "pivot = movies.pivot_table(\n",
    "    index='year_rating',\n",
    "    columns='genres',\n",
    "    values='rating',\n",
    "    aggfunc='mean'\n",
    ")\n",
    "#display(pivot)\n",
    "\n",
    "orders_df = pd.read_csv('data_2/orders.csv', sep=';') \n",
    "product_df = pd.read_csv('data_2/prodct.csv', sep=';')\n",
    "\n",
    "\n",
    "orders_products = orders_df.merge(\n",
    "    product_df, \n",
    "    left_on='ID товара',\n",
    "    right_on='Product_ID',\n",
    "    how='left')\n",
    "orders_products.tail(1)['Order ID']\n",
    "\n",
    "\n",
    "\n",
    "orders_products[orders_products['Отменен'] == 'Да']['Name']\n",
    "\n",
    "\n",
    "orders_products['Profit'] = orders_products['Price'] * orders_products['Количество'] \n",
    "orders_products[orders_products['Оплачен'] == 'Да'].groupby('ID Покупателя')['Profit'].sum().sort_values(ascending=False)"
   ]
  }
 ],
 "metadata": {
  "kernelspec": {
   "display_name": "Python 3",
   "language": "python",
   "name": "python3"
  },
  "language_info": {
   "codemirror_mode": {
    "name": "ipython",
    "version": 3
   },
   "file_extension": ".py",
   "mimetype": "text/x-python",
   "name": "python",
   "nbconvert_exporter": "python",
   "pygments_lexer": "ipython3",
   "version": "3.13.0"
  }
 },
 "nbformat": 4,
 "nbformat_minor": 2
}
