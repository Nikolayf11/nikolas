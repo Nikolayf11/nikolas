{
 "cells": [
  {
   "cell_type": "code",
   "execution_count": 1,
   "metadata": {},
   "outputs": [
    {
     "data": {
      "text/plain": [
       "'2.2.3'"
      ]
     },
     "execution_count": 1,
     "metadata": {},
     "output_type": "execute_result"
    }
   ],
   "source": [
    "import pandas as pd\n",
    "pd.__version__"
   ]
  },
  {
   "cell_type": "code",
   "execution_count": null,
   "metadata": {},
   "outputs": [],
   "source": [
    "names = ['chlorhexidine', 'cyntomycin', 'afobazol']\n",
    "counts = [15, 18, 7]\n",
    "\n",
    "import pandas as pd\n",
    "\n",
    "def create_medications(names, counts):\n",
    "    return pd.Series(data = counts, index = names)\n",
    "\n",
    "medications = create_medications(names, counts)\n",
    "print(medications)\n",
    "\n",
    "def get_percent(medications, name):\n",
    "    percent = (medications.loc[name]/(medications.iloc[0]+medications.iloc[1]+medications.iloc[2]))*100\n",
    "    return percent\n",
    "\n",
    "print(get_percent(medications, \"chlorhexidine\"))"
   ]
  },
  {
   "cell_type": "code",
   "execution_count": null,
   "metadata": {},
   "outputs": [],
   "source": [
    "import pandas as pd\n",
    "countries_df = pd.DataFrame({\n",
    "    'country': ['Англия', 'Канада', 'США', 'Россия', 'Украина', 'Беларусь', 'Казахстан'],\n",
    "    'population': [56.29, 38.05, 322.28, 146.24, 45.5, 9.5, 17.04],\n",
    "    'area': [133396, 9984670, 9826630, 17125191, 603628, 207600, 2724902]\n",
    "})\n",
    "\n",
    "#print(countries_df)\n",
    "countries_df.index = ['UK', 'CA', 'US', 'RU', 'UA', 'BY', 'KZ']\n",
    "display(countries_df)\n",
    "\n",
    "display(countries_df.mean(axis=0, numeric_only=True))\n",
    "display(countries_df.population)\n",
    "\n",
    "display(countries_df.loc['UK', 'area'])\n",
    "display(countries_df.loc['RU', ['population', 'area']])\n",
    "display(countries_df.loc[['UA', 'BY', 'KZ'],['population', 'area']])\n",
    "display(countries_df.iloc[4:8, 1:3])"
   ]
  },
  {
   "cell_type": "code",
   "execution_count": null,
   "metadata": {},
   "outputs": [],
   "source": [
    "income = [478, 512, 196]\n",
    "expenses = [156, 130, 270]\n",
    "years = [2018, 2019, 2020]\n",
    "\n",
    "import pandas as pd\n",
    "\n",
    "def create_companyDF(income, expenses, years):\n",
    "    df = pd.DataFrame({\n",
    "        'Income': income,\n",
    "        'Expenses': expenses\n",
    "        },\n",
    "        index = years\n",
    "    )\n",
    "    return df\n",
    "def get_profit(df, year):\n",
    "    if year in df.index:\n",
    "        profit = df.loc[year, 'Income'] - df.loc[year, 'Expenses']\n",
    "    else:\n",
    "        profit=None\n",
    "    return profit"
   ]
  },
  {
   "cell_type": "code",
   "execution_count": 15,
   "metadata": {},
   "outputs": [
    {
     "data": {
      "text/plain": [
       "0    Northern Metropolitan\n",
       "Name: Regionname, dtype: object"
      ]
     },
     "execution_count": 15,
     "metadata": {},
     "output_type": "execute_result"
    }
   ],
   "source": [
    "import pandas as pd\n",
    "melb_data = pd.read_csv('data/melb_data.csv', sep=',')\n",
    "#display(melb_data)\n",
    "#display(melb_data.iloc[3521, 14]/melb_data.iloc[1690, 14])\n",
    "#display(melb_data.head())\n",
    "#display(melb_data.tail(7))\n",
    "#display(melb_data.shape)\n",
    "#display(melb_data.info())\n",
    "melb_data['Car'] = melb_data['Car'].astype('int64')\n",
    "melb_data['Bedroom'] = melb_data['Bedroom'].astype('int64')\n",
    "melb_data['Bathroom'] = melb_data['Bathroom'].astype('int64')\n",
    "melb_data['Propertycount'] = melb_data['Propertycount'].astype('int64')\n",
    "melb_data['YearBuilt'] = melb_data['YearBuilt'].astype('int64')\n",
    "#melb_data.info()\n",
    "#melb_data.describe().loc[:, ['Distance', 'BuildingArea' , 'Price']]\n",
    "#melb_data.describe(include=['object'])\n",
    "#melb_data['Regionname'].value_counts()\n",
    "#melb_data['Type'].value_counts(normalize=True)\n",
    "#melb_data.count()\n",
    "#melb_data['Price'].mean()\n",
    "#melb_data['Car'].max()\n",
    "#Pribylnost\n",
    "#rate = 0.12\n",
    "#income = melb_data['Price'].sum() * rate\n",
    "#print('Total income of real estate agencies:', round(income, 2))\n",
    "\n",
    "#Otklonenie median ot srednego\n",
    "#landsize_median = melb_data['Landsize'].median() \n",
    "#landsize_mean =  melb_data['Landsize'].mean()\n",
    "#print(abs(landsize_median - landsize_mean)/landsize_mean)\n",
    "\n",
    "#print(melb_data['Rooms'].mode())\n",
    "#melb_data['Regionname'].mode()\n",
    "#melb_data['Propertycount'].max()\n",
    "#melb_data['Distance'].std()\n",
    "\n",
    "#Otklonenie median ot srednego\n",
    "#landsize_median = melb_data['BuildingArea'].median() \n",
    "#landsize_mean =  melb_data['BuildingArea'].mean()\n",
    "#print(abs(landsize_median - landsize_mean)/landsize_mean)\n",
    "\n",
    "#melb_data['Bedroom'].value_counts(normalize=True)\n",
    "\n",
    "#mask = melb_data['Price'] > 2000000\n",
    "#display(mask)\n",
    "\n",
    "#display(melb_data[melb_data['Price'] > 2000000].head())\n",
    "\n",
    "#melb_data[melb_data['Rooms'] == 3].shape[0]\n",
    "\n",
    "#melb_data[(melb_data['Rooms'] == 3) & (melb_data['Price'] < 300000)].shape[0]\n",
    "\n",
    "#melb_data[((melb_data['Rooms'] == 3) | (melb_data['BuildingArea'] > 100)) & (melb_data['Price'] < 300000)].shape[0]\n",
    "\n",
    "#melb_data[melb_data['Type'] == 't']['Rooms'].max()\n",
    "\n",
    "#mean_price = melb_data['Price'].mean()\n",
    "#melb_data[melb_data['Price'] > mean_price]['BuildingArea'].median()\n",
    "\n",
    "#melb_data[melb_data['Bathroom'] == 0].shape[0]\n",
    "\n",
    "#melb_data[(melb_data['SellerG'] == 'Nelson') & (melb_data['Price'] > 3000000)].shape[0]\n",
    "\n",
    "#melb_data[melb_data['BuildingArea'] == 0]['Price'].min()\n",
    "\n",
    "#display(round(melb_data[(melb_data['Price']<1e6) & ((melb_data['Rooms']>5) | (melb_data['YearBuilt'] > 2015))]['Price'].mean()))\n",
    "\n",
    "melb_data[(melb_data['Type'] == 'h') & (melb_data['Price'] < 3000000)]['Regionname'].mode()"
   ]
  }
 ],
 "metadata": {
  "kernelspec": {
   "display_name": "Python 3",
   "language": "python",
   "name": "python3"
  },
  "language_info": {
   "codemirror_mode": {
    "name": "ipython",
    "version": 3
   },
   "file_extension": ".py",
   "mimetype": "text/x-python",
   "name": "python",
   "nbconvert_exporter": "python",
   "pygments_lexer": "ipython3",
   "version": "3.13.0"
  }
 },
 "nbformat": 4,
 "nbformat_minor": 2
}
