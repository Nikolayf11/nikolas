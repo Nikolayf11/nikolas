{
 "cells": [
  {
   "cell_type": "code",
   "execution_count": 10,
   "metadata": {},
   "outputs": [
    {
     "name": "stderr",
     "output_type": "stream",
     "text": [
      "C:\\Users\\You are drop\\AppData\\Local\\Temp\\ipykernel_14032\\874970313.py:14: UserWarning: Parsing dates in %Y-%m-%d %H:%M:%S format when dayfirst=True was specified. Pass `dayfirst=False` or specify a format to silence this warning.\n",
      "  dates['date'] = pd.to_datetime(dates['date'], dayfirst=True)\n"
     ]
    },
    {
     "data": {
      "text/plain": [
       "Years\n",
       "2000    0.099776\n",
       "2017    0.081300\n",
       "2007    0.070550\n",
       "2016    0.066474\n",
       "2015    0.065611\n",
       "2018    0.063648\n",
       "1996    0.059899\n",
       "2005    0.057648\n",
       "2012    0.046174\n",
       "2008    0.043149\n",
       "2009    0.041235\n",
       "2006    0.040253\n",
       "2003    0.039807\n",
       "2001    0.038895\n",
       "2002    0.034492\n",
       "2004    0.032518\n",
       "1999    0.024188\n",
       "2010    0.022819\n",
       "1997    0.019001\n",
       "2011    0.016760\n",
       "2013    0.016502\n",
       "2014    0.014271\n",
       "1998    0.005028\n",
       "Name: proportion, dtype: float64"
      ]
     },
     "execution_count": 10,
     "metadata": {},
     "output_type": "execute_result"
    }
   ],
   "source": [
    "import pandas as pd\n",
    "movies = pd.read_csv('data_2/movies.csv', sep=',')\n",
    "#display(movies)\n",
    "#movies['title'].value_counts()\n",
    "\n",
    "ratings1 = pd.read_csv('data_2/ratings1.csv', sep=',')\n",
    "#display(ratings1)\n",
    "#ratings1['userId'].value_counts()\n",
    "\n",
    "dates = pd.read_csv('data_2/dates.csv', sep=',')\n",
    "#display(dates)\n",
    "#dates['userId'].value_counts()\n",
    "#dates['date'].value_counts(normalize=True)\n",
    "dates['date'] = pd.to_datetime(dates['date'], dayfirst=True)\n",
    "#display(dates['date'])\n",
    "\n",
    "\n",
    "\n",
    "dates['Years'] = dates['date'].dt.year\n",
    "\n",
    "dates['Years'].value_counts(normalize=True)\n"
   ]
  }
 ],
 "metadata": {
  "kernelspec": {
   "display_name": "Python 3",
   "language": "python",
   "name": "python3"
  },
  "language_info": {
   "codemirror_mode": {
    "name": "ipython",
    "version": 3
   },
   "file_extension": ".py",
   "mimetype": "text/x-python",
   "name": "python",
   "nbconvert_exporter": "python",
   "pygments_lexer": "ipython3",
   "version": "3.13.0"
  }
 },
 "nbformat": 4,
 "nbformat_minor": 2
}
